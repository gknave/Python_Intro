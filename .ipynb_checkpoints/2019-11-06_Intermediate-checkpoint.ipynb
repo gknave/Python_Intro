{
 "cells": [
  {
   "cell_type": "markdown",
   "metadata": {},
   "source": [
    "# <center> Intermediate Python </center>\n",
    "## <center> Gary Nave </center>\n",
    "### <center>Applied Math/Computer Science Postdoc Workshop Series </center> \n",
    "### <center> November 6, 2019 </center>\n",
    "\n",
    "\n",
    "\n",
    "This workshop is intended to provide some practical examples of Python, with a focus on scientific computing. The purpose is to familiarize you with some useful packages in order to help you learn and use it in your own work. I'll focus on 3 packages: `NumPy`, `SciPy`, and `Matplotlib`, with a reference to `Pandas`, which is a way to handle data frames.\n",
    "\n",
    "If you want to follow along, go to https://github.com/gknave/Python_Intro and download today's file (2019-11-06_Tutorial.ipynb)\n",
    "\n",
    "Go to a terminal (cmd on Windows, terminal on Mac) and type `jupyter notebook`.\n",
    "\n",
    "### Who am I?\n",
    "\n",
    "Gary Nave\n",
    "\n",
    "Postdoc, BioFrontiers Institute and Computer Science, CU Boulder\n",
    "\n",
    "PhD 2018, Engineering Mechanics, Virginia Tech\n",
    "\n",
    "### Contact Me\n",
    "Gary.Nave@colorado.edu\n",
    "\n",
    "@gknave (Twitter)\n"
   ]
  },
  {
   "cell_type": "markdown",
   "metadata": {},
   "source": [
    "# NumPy\n",
    "\n",
    "NumPy (Numerical Python) is one of the first packages I load when working on any project. Python's native `list` and `tuple` classes are useful for many things, but for manipulating data, it's often most useful to work with NumPy `arrays`.\n",
    "\n",
    "The typical convention is to abbreviate NumPy as `np`:\n",
    "\n",
    "    import numpy as np\n",
    "    \n",
    "An array is often made by converting lists or tuples:\n",
    "\n",
    "    myarray = np.array([1, 2, 3, 4])\n",
    "\n",
    "An option within the array to consider is the data type, `dtype`. Options include `int` or `float` as well as numpy data types such as `np.float64` (64 bit float) or `np.uint8` (8 bit unsigned integer).\n",
    "\n",
    "Arrays can be multi-dimensional by creating lists of lists or using the `np.reshape()` command.\n",
    "\n",
    "    array2d = np.array([[1,2],[3,4]], dtype=np.float64)\n",
    "    \n",
    "Operations on arrays are assumed to be elementwise, but matrix operations are found in the subpackage `np.linalg`.\n",
    "\n",
    "\n",
    "NOTE: Equivalence is a **reference** to an array, rather than a copy. To make a copy, use `.copy()`.\n",
    "\n",
    "    a = myarray # Both a and myarray point to the same array in memory\n",
    "    a = myarray.copy() # a is a second array initialized to be a copy of myarray"
   ]
  },
  {
   "cell_type": "code",
   "execution_count": null,
   "metadata": {},
   "outputs": [],
   "source": []
  },
  {
   "cell_type": "markdown",
   "metadata": {},
   "source": [
    "# SciPy\n",
    "\n",
    "While NumPy is for basic operations and manipulations, SciPy contains more scientific tools for deeper analysis.\n",
    "\n",
    "Some of the subpackages include:\n",
    " - Integration (`scipy.integrate`)\n",
    " - Optimization (`scipy.optimize`)\n",
    " - Interpolation (`scipy.interpolate`)\n",
    " - Fourier Transforms (`scipy.fftpack`)\n",
    " - Signal Processing (`scipy.signal`)\n",
    " - Linear Algebra (`scipy.linalg`)\n",
    " - Spatial data structures and algorithms (`scipy.spatial`)\n",
    " - Statistics (`scipy.stats`)\n",
    " - Multidimensional image processing (`scipy.ndimage`)\n",
    " - File IO (`scipy.io`)"
   ]
  },
  {
   "cell_type": "code",
   "execution_count": null,
   "metadata": {},
   "outputs": [],
   "source": []
  }
 ],
 "metadata": {
  "kernelspec": {
   "display_name": "Python 3",
   "language": "python",
   "name": "python3"
  },
  "language_info": {
   "codemirror_mode": {
    "name": "ipython",
    "version": 3
   },
   "file_extension": ".py",
   "mimetype": "text/x-python",
   "name": "python",
   "nbconvert_exporter": "python",
   "pygments_lexer": "ipython3",
   "version": "3.7.3"
  }
 },
 "nbformat": 4,
 "nbformat_minor": 2
}
