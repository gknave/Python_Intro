{
 "cells": [
  {
   "cell_type": "markdown",
   "metadata": {},
   "source": [
    "# <center> Introduction to Python </center>\n",
    "## <center> Gary Nave </center>\n",
    "### <center>Postdoc Association of Colorado Workshop Series </center> \n",
    "### <center> September 6, 2019 </center>\n",
    "\n",
    "This workshop is intended to be a general introduction to Python, with a focus on scientific computing. The purpose is to familiarize you with the language and its basic usage in order to help you learn and use it in your own work.\n",
    "\n",
    "If you want to follow along, go to\n",
    "https://github.com/gknave/Python_Intro\n",
    "and download today's file (2019-09-06_Tutorial.ipynb)\n",
    "\n",
    "Go to a terminal (`cmd` on Windows, `terminal` on Mac) and type `jupyter notebook` \n",
    "\n",
    "**Who am I?**\n",
    "\n",
    "Gary Nave\n",
    "\n",
    "Postdoc, BioFrontiers Institute and Computer Science, CU Boulder\n",
    "\n",
    "PhD 2018, Engineering Mechanics, Virginia Tech\n",
    "\n",
    "*Contact Me*\n",
    "\n",
    "Gary.Nave@colorado.edu\n",
    "\n",
    "@gknave (Twitter)\n"
   ]
  },
  {
   "cell_type": "markdown",
   "metadata": {},
   "source": [
    "## Python general syntax\n",
    "\n",
    "Python is intended to be highly readable.\n",
    "\n",
    "No initialization of variables is necessary, you simply set it equal to something."
   ]
  },
  {
   "cell_type": "code",
   "execution_count": 2,
   "metadata": {
    "scrolled": true
   },
   "outputs": [
    {
     "name": "stdout",
     "output_type": "stream",
     "text": [
      "12\n",
      "27\n"
     ]
    }
   ],
   "source": [
    "y = 12\n",
    "print(y)\n",
    "\n",
    "x = y+15\n",
    "print(x)\n",
    "\n",
    "# Examples of variables"
   ]
  },
  {
   "cell_type": "markdown",
   "metadata": {},
   "source": [
    "**Most basic operations are intuitively defined:**\n",
    "\n",
    "`+` Addition\n",
    "\n",
    "`-` Subtraction\n",
    "\n",
    "`*` Multiplication\n",
    "\n",
    "`/` Division\n",
    "\n",
    "**Other operations may be less intuitive:**\n",
    "\n",
    "`**` Exponentiation\n",
    "\n",
    "`%` Modulo\n",
    "\n",
    "`//` Integer division"
   ]
  },
  {
   "cell_type": "code",
   "execution_count": 3,
   "metadata": {},
   "outputs": [
    {
     "name": "stdout",
     "output_type": "stream",
     "text": [
      "3\n",
      "717\n"
     ]
    }
   ],
   "source": [
    "# Examples of basic operations\n",
    "print(x%y)\n",
    "\n",
    "z = x**2-y*x//x\n",
    "print(z)"
   ]
  },
  {
   "cell_type": "markdown",
   "metadata": {},
   "source": [
    "## Functions\n",
    "Functions, such as `print()` above, need to have parentheses `()` afterward, even if they have no argument. \n",
    "\n",
    "We define our own functions with `def`.\n",
    "\n",
    "With functions (and loops and if statements), we must include a colon `:` after the function statement.\n",
    "\n",
    "Also, the \"inside\" of the function is defined by **whitespace**. The level of indentation defines the code that is a part of the function definition. \n",
    "\n",
    "You can use any number of tabs or spaces (usually one tab or 2 or 4 spaces), but please, I beg you, please, *never ever use both tabs and spaces*.\n",
    "\n",
    "`return` outputs things"
   ]
  },
  {
   "cell_type": "code",
   "execution_count": 4,
   "metadata": {},
   "outputs": [
    {
     "name": "stdout",
     "output_type": "stream",
     "text": [
      "Hello, World!\n",
      "81\n",
      "24\n",
      "(4096, 504)\n"
     ]
    }
   ],
   "source": [
    "# First, we define our function\n",
    "def firstfunction():\n",
    "    print('Hello, World!')\n",
    "    \n",
    "# Then, we run it\n",
    "firstfunction()\n",
    "\n",
    "\n",
    "# A function with arguments\n",
    "def secondfunction(argument):\n",
    "    return argument**4, argument**3-argument\n",
    "\n",
    "X, Y = secondfunction(3)\n",
    "print(X)\n",
    "print(Y)\n",
    "\n",
    "\n",
    "# A function with optional arguments\n",
    "def thirdfunction(arg1, arg2=12):\n",
    "    return arg1*arg2\n",
    "\n",
    "print(secondfunction(8))"
   ]
  },
  {
   "cell_type": "markdown",
   "metadata": {},
   "source": [
    "## Basic classes\n",
    "\n",
    "**Integers**: `3`\n",
    "\n",
    "**Floats**: `3.0`\n",
    "\n",
    "**Strings**: `'Three'`\n",
    "\n",
    "*Note: Use `+` for string concatenation*\n",
    "\n",
    "**Boolean** `True`,`False`"
   ]
  },
  {
   "cell_type": "code",
   "execution_count": 5,
   "metadata": {},
   "outputs": [
    {
     "name": "stdout",
     "output_type": "stream",
     "text": [
      "one\n",
      "True\n"
     ]
    }
   ],
   "source": [
    "teststring = 'one'\n",
    "print(teststring)\n",
    "\n",
    "print(3.0>1)"
   ]
  },
  {
   "cell_type": "markdown",
   "metadata": {},
   "source": [
    "### Arrays\n",
    "\n",
    "**Lists**: `[1, 2, 3]` - Mutable\n",
    "\n",
    "**Tuples**: `(1, 2, 3)` - Immutable\n",
    "\n",
    "**Dictionaries**: `{'One':1, 'Two':2, 'Three:3'}`\n",
    "\n",
    "#### Indexing and slicing\n",
    "\n",
    "You can access objects inside a list, tuple, or even string using square brackets `[]`.\n",
    "\n",
    "Python indexing begins at 0!\n",
    "\n",
    "    ['a','b','c','d','e']\n",
    "      0   1   2   3   4\n",
    "     -5  -4  -3  -2  -1\n",
    "\n",
    "You can access a subset of a list, tuple, or string using the `:` to indicate a range.\n",
    "\n",
    "The first index gives the first element included. \n",
    "\n",
    "The last index gives the first element NOT included.\n",
    "\n",
    "    mylist[0:2] = ['a','b']\n",
    "\n",
    "A dictionary has keys (typically strings), that replace the index.\n",
    "\n",
    "    mydict['one'] = 1"
   ]
  },
  {
   "cell_type": "code",
   "execution_count": 6,
   "metadata": {},
   "outputs": [
    {
     "name": "stdout",
     "output_type": "stream",
     "text": [
      "gana2345\n"
     ]
    }
   ],
   "source": [
    "testlist = [1, 2, 3]\n",
    "teststring = 'hello!'\n",
    "\n",
    "testlist;\n",
    "\n",
    "\n",
    "\n",
    "\n",
    "\n",
    "\n",
    "\n",
    "\n",
    "\n",
    "\n",
    "# CU identikey function\n",
    "def identikey(first, last, number):\n",
    "    my_key = first[0:2]+last[0:2]+str(number)\n",
    "    return my_key\n",
    "\n",
    "print(identikey('gary','nave', 2345))"
   ]
  },
  {
   "cell_type": "markdown",
   "metadata": {},
   "source": [
    "## Loops and such\n",
    "\n",
    "You can loop through any array, or a special class called an iterator.\n",
    "\n",
    "Loops follow the same whitespace rules as functions:\n",
    "\n",
    "```\n",
    "for <something> in <somearray>:\n",
    "    content\n",
    "    ```\n",
    "\n",
    "Consistent indentation after the decleration (which ends in a colon `:`) set apart the contents of the loop.\n",
    "\n",
    "Some useful functions for looping are `zip` and `enumerate`\n",
    "\n",
    "### If statements\n",
    "If statements follow the same whitespace rules as well. `if`, `elif`, and `else` are the necessary commands.\n",
    "\n",
    "Words like `in` or `not` are very useful for if statements as well."
   ]
  },
  {
   "cell_type": "code",
   "execution_count": 24,
   "metadata": {
    "scrolled": true
   },
   "outputs": [
    {
     "name": "stdout",
     "output_type": "stream",
     "text": [
      "one\n",
      "two\n",
      "three\n",
      "1 two\n",
      "2 three\n",
      "8 four\n",
      "9604\n",
      "yay!\n"
     ]
    }
   ],
   "source": [
    "numlist = [1, 2, 5, 12]\n",
    "numlist.append(17)\n",
    "numlist[2] = 8\n",
    "\n",
    "testdict = {'one':1}\n",
    "testdict['two'] = 2\n",
    "testdict['three'] = 3\n",
    "\n",
    "for key in testdict.keys():\n",
    "    print(key)\n",
    "\n",
    "#for num in numlist[1:5:2]:\n",
    "#    print(num**2)\n",
    "    \n",
    "strlist = ['one', 'two', 'three', 'four']\n",
    "#for string in testlist:\n",
    "#    print(string+'_str')\n",
    "\n",
    "for num, string in zip(numlist, strlist[1:]):\n",
    "    print(num, string)\n",
    "    \n",
    "for k in range(0, 100, 2):\n",
    "    z = k**2\n",
    "print(z)\n",
    "\n",
    "if numlist[1]==2:\n",
    "    print('yay!')"
   ]
  },
  {
   "cell_type": "markdown",
   "metadata": {},
   "source": [
    "## Packages\n",
    "\n",
    "Python, on its own, can't do everything necessary for your research (well, it can, but it would be super hard).\n",
    "\n",
    "Thankfully, lots of helpful folks have built the necessary machinary to do most algorithms you'd ever want. \n",
    "\n",
    "To use these, simply use `import`. You can even give the package a nickname!\n",
    "\n",
    "Package managers: `conda`, `pip`"
   ]
  },
  {
   "cell_type": "code",
   "execution_count": 35,
   "metadata": {
    "scrolled": true
   },
   "outputs": [
    {
     "data": {
      "image/png": "[encoded data removed]",
      "text/plain": [
       "<Figure size 216x144 with 1 Axes>"
      ]
     },
     "metadata": {
      "needs_background": "light"
     },
     "output_type": "display_data"
    },
    {
     "data": {
      "image/png": "[encoded data removed]",
      "text/plain": [
       "<Figure size 432x288 with 1 Axes>"
      ]
     },
     "metadata": {
      "needs_background": "light"
     },
     "output_type": "display_data"
    }
   ],
   "source": [
    "import numpy as np\n",
    "import matplotlib.pyplot as plt\n",
    "from random import gauss\n",
    "import seaborn as sns\n",
    "\n",
    "num_points = 200\n",
    "x = np.linspace(0, 2*np.pi, num_points)\n",
    "\n",
    "randlist = []\n",
    "for k in range(num_points):\n",
    "    #The arguments for gauss are mean, standard deviation\n",
    "    randlist.append(gauss(0, 0.1))\n",
    "\n",
    "plt.figure(figsize=(3, 2))\n",
    "plt.plot(x, randlist)\n",
    "plt.figure(figsize=(6, 4))\n",
    "plt.plot(x, np.sin(x)+np.array(randlist))\n",
    "plt.show()"
   ]
  },
  {
   "cell_type": "markdown",
   "metadata": {},
   "source": [
    "### Challenge time\n",
    "Make a function that finds all `.pdf` files in a folder and renames them `_old.pdf`. Say you just want to store them in a folder.\n",
    "\n",
    "Some helpful tools for your task are in the package `os`:\n",
    "\n",
    "`os.listdir('.')` returns all file names in the current directory (denoted by `'.'`) as a list\n",
    "\n",
    "`os.rename(src, dst)` renames the file `src` with the name `dst`."
   ]
  },
  {
   "cell_type": "code",
   "execution_count": 9,
   "metadata": {},
   "outputs": [
    {
     "ename": "SyntaxError",
     "evalue": "unexpected EOF while parsing (<ipython-input-9-a6e946b276be>, line 2)",
     "output_type": "error",
     "traceback": [
      "\u001b[0;36m  File \u001b[0;32m\"<ipython-input-9-a6e946b276be>\"\u001b[0;36m, line \u001b[0;32m2\u001b[0m\n\u001b[0;31m    # Do the thing\u001b[0m\n\u001b[0m                  ^\u001b[0m\n\u001b[0;31mSyntaxError\u001b[0m\u001b[0;31m:\u001b[0m unexpected EOF while parsing\n"
     ]
    }
   ],
   "source": [
    "def oldpdf():\n",
    "    # Do the thing"
   ]
  },
  {
   "cell_type": "markdown",
   "metadata": {},
   "source": [
    "### Some useful packages\n",
    "\n",
    "For plotting: \n",
    " - `matplotlib` (especially `matplotlib.pyplot`)\n",
    " - `plot.ly`\n",
    " - `seaborn` (makes things pretty)\n",
    " - `mayavi` (pretty 3d plots, may be tricky to get installation right)\n",
    "\n",
    "For math: \n",
    " - `numpy`\n",
    " - `scipy`\n",
    " - `sympy`\n",
    "\n",
    "For handling data: \n",
    " - `pandas`\n",
    "\n",
    "For interacting with the shell/files:\n",
    " - `os`\n",
    " - `shutil`\n",
    "\n",
    "Machine learning: \n",
    " - `scikit-learn`\n",
    " - `TensorFlow`\n",
    " - `keras`\n",
    "\n",
    "Image processing: \n",
    " - `opencv`\n",
    " - `scikit-image`"
   ]
  },
  {
   "cell_type": "markdown",
   "metadata": {},
   "source": [
    "## Bonus: ODE integration with `scipy`\n",
    "\n",
    "https://docs.scipy.org/doc/scipy/reference/integrate.html\n",
    "\n",
    "### The Lorenz attractor \n",
    "(because what else would we integrate?)\n",
    "\n",
    "$\\dot{x}=\\sigma (y-x)$,\n",
    "\n",
    "$\\dot{y}=x(\\rho-z)-y$,\n",
    "\n",
    "$\\dot{z}=xy-\\beta z$."
   ]
  },
  {
   "cell_type": "code",
   "execution_count": 36,
   "metadata": {},
   "outputs": [
    {
     "data": {
      "text/plain": [
       "[<mpl_toolkits.mplot3d.art3d.Line3D at 0x7fc1a4a8b278>]"
      ]
     },
     "execution_count": 36,
     "metadata": {},
     "output_type": "execute_result"
    },
    {
     "data": {
      "image/png": "[encoded data removed]",
      "text/plain": [
       "<Figure size 432x288 with 1 Axes>"
      ]
     },
     "metadata": {
      "needs_background": "light"
     },
     "output_type": "display_data"
    }
   ],
   "source": [
    "import numpy as np\n",
    "from scipy import integrate\n",
    "import matplotlib.pyplot as plt\n",
    "from mpl_toolkits.mplot3d import Axes3D\n",
    "\n",
    "def lorenz(t, y, sigma=10, beta=8/3, rho=28):\n",
    "    ydot = np.array([\n",
    "        sigma*(y[1]-y[0]),\n",
    "        y[0]*(rho-y[2])-y[1],\n",
    "        y[0]*y[1]-beta*y[2]\n",
    "    ])\n",
    "    return ydot\n",
    "\n",
    "y0 = [1,1,1.1]\n",
    "t_span = [0, 30]\n",
    "t_eval = np.linspace(t_span[0], t_span[1], 10000)\n",
    "\n",
    "solution = integrate.solve_ivp(lorenz, t_span, y0, method='RK45', t_eval=t_eval)\n",
    "\n",
    "fig = plt.figure()\n",
    "ax = fig.add_subplot(111, projection='3d')\n",
    "\n",
    "ax.plot(solution.y[0,:], solution.y[1,:], solution.y[2, :])"
   ]
  },
  {
   "cell_type": "markdown",
   "metadata": {},
   "source": [
    "# <center>Questions?</center>"
   ]
  },
  {
   "cell_type": "code",
   "execution_count": null,
   "metadata": {},
   "outputs": [],
   "source": []
  },
  {
   "cell_type": "markdown",
   "metadata": {},
   "source": [
    "## Feedback!\n",
    "\n",
    "Before you go! Please email me (Gary.Nave@colorado.edu) an answer to these three questions:\n",
    "\n",
    "1. What was the most useful thing that you learned in this workshop?\n",
    "2. What was the most confusing thing we discussed in this workshop?\n",
    "3. What is something that I can do to make this workshop better for the future?"
   ]
  }
 ],
 "metadata": {
  "kernelspec": {
   "display_name": "Python 3",
   "language": "python",
   "name": "python3"
  },
  "language_info": {
   "codemirror_mode": {
    "name": "ipython",
    "version": 3
   },
   "file_extension": ".py",
   "mimetype": "text/x-python",
   "name": "python",
   "nbconvert_exporter": "python",
   "pygments_lexer": "ipython3",
   "version": "3.7.3"
  }
 },
 "nbformat": 4,
 "nbformat_minor": 2
}
