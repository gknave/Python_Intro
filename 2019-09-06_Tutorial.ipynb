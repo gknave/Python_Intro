{
 "cells": [
  {
   "cell_type": "markdown",
   "metadata": {},
   "source": [
    "# <center> Introduction to Python </center>\n",
    "## <center> Gary Nave </center>\n",
    "### <center>Postdoc Association of Colorado Workshop Series </center> \n",
    "### <center> September 6, 2019 </center>\n",
    "\n",
    "This workshop is intended to be a general introduction to Python, with a focus on scientific computing. The purpose is to familiarize you with the language and its basic usage in order to help you learn and use it in your own work.\n",
    "\n",
    "If you want to follow along, go to\n",
    "https://github.com/gknave/Python_Intro\n",
    "and download today's file (2019-09-06_Tutorial.ipynb)\n",
    "\n",
    "**Who am I?**\n",
    "\n",
    "Gary Nave\n",
    "\n",
    "Postdoc, BioFrontiers Institute and Computer Science, CU Boulder\n",
    "\n",
    "PhD 2018, Engineering Mechanics, Virginia Tech\n",
    "\n",
    "*Contact Me*\n",
    "\n",
    "Gary.Nave@colorado.edu\n",
    "\n",
    "@gknave (Twitter)\n"
   ]
  },
  {
   "cell_type": "markdown",
   "metadata": {},
   "source": [
    "## Python general syntax\n",
    "\n",
    "Python is intended to be highly readable.\n",
    "\n",
    "No initialization of variables is necessary, you simply set it equal to something."
   ]
  },
  {
   "cell_type": "code",
   "execution_count": 1,
   "metadata": {
    "scrolled": true
   },
   "outputs": [
    {
     "name": "stdout",
     "output_type": "stream",
     "text": [
      "3\n",
      "5\n"
     ]
    }
   ],
   "source": [
    "y = 3\n",
    "print(y)\n",
    "\n",
    "x = y+2\n",
    "print(x)\n",
    "\n",
    "# Examples of variables"
   ]
  },
  {
   "cell_type": "markdown",
   "metadata": {},
   "source": [
    "**Most basic operations are intuitively defined:**\n",
    "\n",
    "`+` Addition\n",
    "\n",
    "`-` Subtraction\n",
    "\n",
    "`*` Multiplication\n",
    "\n",
    "`/` Division\n",
    "\n",
    "**Other operations may be less intuitive:**\n",
    "\n",
    "`**` Exponentiation\n",
    "\n",
    "`%` Modulo\n",
    "\n",
    "`//` Integer division"
   ]
  },
  {
   "cell_type": "code",
   "execution_count": 8,
   "metadata": {},
   "outputs": [
    {
     "name": "stdout",
     "output_type": "stream",
     "text": [
      "22\n"
     ]
    }
   ],
   "source": [
    "# Examples of basic operations\n",
    "x%y\n",
    "\n",
    "z = x**2-y*x//x\n",
    "print(z)"
   ]
  },
  {
   "cell_type": "markdown",
   "metadata": {},
   "source": [
    "## Functions\n",
    "Functions, such as `print()` above, need to have parentheses `()` afterward, even if they have no argument. \n",
    "\n",
    "We define our own functions with `def`.\n",
    "\n",
    "With functions (and loops and if statements), we must include a colon `:` after the function statement.\n",
    "\n",
    "Also, the \"inside\" of the function is defined by **whitespace**. The level of indentation defines the code that is a part of the function definition. \n",
    "\n",
    "You can use any number of tabs or spaces (usually one tab or 2 or 4 spaces), but please, I beg you, please, *never ever use both tabs and spaces*.\n",
    "\n",
    "`return` outputs things"
   ]
  },
  {
   "cell_type": "code",
   "execution_count": 13,
   "metadata": {},
   "outputs": [
    {
     "name": "stdout",
     "output_type": "stream",
     "text": [
      "hello!\n",
      "9\n",
      "1\n",
      "4\n",
      "12\n"
     ]
    }
   ],
   "source": [
    "# First, we define our function\n",
    "def firstfunction():\n",
    "    \n",
    "# Now, we run it\n",
    "firstfunction()\n",
    "\n",
    "\n",
    "# A function with arguments\n",
    "def secondfunction(argument):\n",
    "    return \n",
    "\n",
    "X, Y = secondfunction(3)\n",
    "print(X)\n",
    "print(Y)\n",
    "\n",
    "\n",
    "# A function with optional arguments\n",
    "def thirdfunction(arg1, arg2=12):\n",
    "    return \n",
    "\n",
    "print(thirdfunction(8))\n",
    "print(thirdfunction(7, 19))"
   ]
  },
  {
   "cell_type": "markdown",
   "metadata": {},
   "source": [
    "## Basic classes\n",
    "\n",
    "**Integers**: `3`\n",
    "\n",
    "**Floats**: `3.0`\n",
    "\n",
    "**Strings**: `'Three'`\n",
    "\n",
    "**Boolean** `True`,`False`"
   ]
  },
  {
   "cell_type": "code",
   "execution_count": 19,
   "metadata": {},
   "outputs": [
    {
     "name": "stdout",
     "output_type": "stream",
     "text": [
      "one\n",
      "two\n",
      "True\n"
     ]
    }
   ],
   "source": [
    "teststring = 'one\\ntwo'\n",
    "print(teststring)\n",
    "\n",
    "print(3.0>1)"
   ]
  },
  {
   "cell_type": "markdown",
   "metadata": {},
   "source": [
    "### Arrays\n",
    "\n",
    "**Lists**: `[1, 2, 3]` - Mutable\n",
    "\n",
    "**Tuples**: `(1, 2, 3)` - Immutable\n",
    "\n",
    "**Dictionaries**: `{'One':1, 'Two':2, 'Three:3'}`\n",
    "\n",
    "#### Indexing and slicing\n",
    "\n",
    "You can access objects inside a list, tuple, or even string using square brackets `[]`.\n",
    "\n",
    "Python indexing begins at 0!\n",
    "\n",
    "    ['a','b','c','d','e']\n",
    "      0   1   2   3   4\n",
    "     -5  -4  -3  -2  -1\n",
    "\n",
    "You can access a subset of a list, tuple, or string using the `:` to indicate a range.\n",
    "\n",
    "The first index gives the first element included. \n",
    "\n",
    "The last index gives the first element NOT included.\n",
    "\n",
    "    mylist[0:2] = ['a','b']\n",
    "\n",
    "A dictionary has keys (typically strings), that replace the index.\n",
    "\n",
    "    mydict['one'] = 1"
   ]
  },
  {
   "cell_type": "code",
   "execution_count": 26,
   "metadata": {},
   "outputs": [
    {
     "name": "stdout",
     "output_type": "stream",
     "text": [
      "[2, 3]\n",
      "gana7192\n"
     ]
    }
   ],
   "source": [
    "testlist = [1, 2, 3]\n",
    "testtuple = (1, 2, 3)\n",
    "\n",
    "print(testlist[1:])\n",
    "\n",
    "# CU identikey function\n",
    "def identikey(first, last):\n",
    "    return first[:2]+last[:2]+str(7192)\n",
    "\n",
    "print(identikey('gary','nave'))"
   ]
  },
  {
   "cell_type": "markdown",
   "metadata": {},
   "source": [
    "## Loops and such\n",
    "\n",
    "You can loop through any array, or a special class called an iterator.\n",
    "\n",
    "Loops follow the same whitespace rules as functions:\n",
    "\n",
    "Consistent indentation after the decleration (which ends in a colon `:`) set apart the contents of the loop.\n",
    "\n",
    "Some useful functions for looping are `zip` and `enumerate`\n",
    "\n",
    "### If statements\n",
    "If statements follow the same whitespace rules as well. `if`, `elif`, and `else` are the necessary commands."
   ]
  },
  {
   "cell_type": "code",
   "execution_count": 35,
   "metadata": {
    "scrolled": true
   },
   "outputs": [
    {
     "name": "stdout",
     "output_type": "stream",
     "text": [
      "1\n",
      "2\n",
      "3\n",
      "0\n",
      "1\n",
      "2\n",
      "3\n",
      "4\n",
      "5\n",
      "6\n",
      "7\n",
      "8\n",
      "9\n",
      "0 element gives 0 means two\n",
      "1 element gives 1 means three\n",
      "2 element gives 2 means four\n"
     ]
    }
   ],
   "source": [
    "for number in testlist:\n",
    "    print(number)\n",
    "\n",
    "numlist = list(range(4))\n",
    "newlist = ['one','two','three','four']\n",
    "\n",
    "for k in range(10):\n",
    "    print(k)\n",
    "\n",
    "for k, (num, name) in enumerate(zip(numlist, newlist[1:])):\n",
    "    print(k, 'element gives', num,'means',name)"
   ]
  },
  {
   "cell_type": "markdown",
   "metadata": {},
   "source": [
    "## Packages\n",
    "\n",
    "Python, on its own, can't do everything necessary for your research (well, it can, but it would be super hard).\n",
    "\n",
    "Thankfully, lots of helpful folks have built the necessary machinary to do most algorithms you'd ever want. \n",
    "\n",
    "To use these, simply use `import`. You can even give the package a nickname!\n",
    "\n",
    "Package managers: `conda`, `pip`"
   ]
  },
  {
   "cell_type": "code",
   "execution_count": 2,
   "metadata": {
    "scrolled": true
   },
   "outputs": [
    {
     "data": {
      "text/plain": [
       "[<matplotlib.lines.Line2D at 0x236b865e208>]"
      ]
     },
     "execution_count": 2,
     "metadata": {},
     "output_type": "execute_result"
    },
    {
     "data": {
      "image/png": "[encoded data removed]",
      "text/plain": [
       "<Figure size 432x288 with 1 Axes>"
      ]
     },
     "metadata": {
      "needs_background": "light"
     },
     "output_type": "display_data"
    }
   ],
   "source": [
    "import numpy as np\n",
    "import matplotlib.pyplot as plt\n",
    "from random import gauss\n",
    "\n",
    "x = np.linspace(0, 2*np.pi, 200)\n",
    "\n",
    "randlist = []\n",
    "for k in range(200):\n",
    "    #The arguments for gauss are mean, standard deviation\n",
    "    randlist.append(gauss(0, 0.1))\n",
    "\n",
    "plt.plot(x, np.sin(x)+np.array(randlist))"
   ]
  },
  {
   "cell_type": "markdown",
   "metadata": {},
   "source": [
    "### Challenge time\n",
    "Make a function that finds all `.pdf` files in a folder and renames them `_old.pdf`. Say you just want to store them in a folder.\n",
    "\n",
    "Some helpful tools for your task are in the package `os`:\n",
    "\n",
    "`os.listdir('.')` returns all file names in the current directory (denoted by `'.'`) as a list\n",
    "\n",
    "`os.rename(src, dst)` renames the file `src` with the name `dst`."
   ]
  },
  {
   "cell_type": "code",
   "execution_count": null,
   "metadata": {},
   "outputs": [],
   "source": [
    "def oldpdf():\n",
    "    # Do the thing"
   ]
  },
  {
   "cell_type": "markdown",
   "metadata": {},
   "source": [
    "### Some useful packages\n",
    "\n",
    "For plotting: \n",
    " - `matplotlib` (especially `matplotlib.pyplot`)\n",
    " - `plot.ly`\n",
    " - `seaborn` (makes things pretty)\n",
    " - `mayavi` (pretty 3d plots, may be tricky to get installation right)\n",
    "\n",
    "For math: \n",
    " - `numpy`\n",
    " - `scipy`\n",
    " - `sympy`\n",
    "\n",
    "For handling data: \n",
    " - `pandas`\n",
    "\n",
    "For interacting with the shell/files:\n",
    " - `os`\n",
    " - `shutil`\n",
    "\n",
    "Machine learning: \n",
    " - `scikit-learn`\n",
    " - `TensorFlow`\n",
    " - `keras`\n",
    "\n",
    "Image processing: \n",
    " - `opencv`\n",
    " - `scikit-image`"
   ]
  },
  {
   "cell_type": "markdown",
   "metadata": {},
   "source": [
    "## Bonus: ODE integration with `scipy`\n",
    "\n",
    "https://docs.scipy.org/doc/scipy/reference/integrate.html\n",
    "\n",
    "### The Lorenz attractor \n",
    "(because what else would we integrate?)\n",
    "\n",
    "$\\dot{x}=\\sigma (y-x)$,\n",
    "\n",
    "$\\dot{y}=x(\\rho-z)-y$,\n",
    "\n",
    "$\\dot{z}=xy-\\beta z$."
   ]
  },
  {
   "cell_type": "code",
   "execution_count": 46,
   "metadata": {},
   "outputs": [
    {
     "data": {
      "text/plain": [
       "[<mpl_toolkits.mplot3d.art3d.Line3D at 0xc5f8966470>]"
      ]
     },
     "execution_count": 46,
     "metadata": {},
     "output_type": "execute_result"
    },
    {
     "data": {
      "image/png": "[encoded data removed]",
      "text/plain": [
       "<matplotlib.figure.Figure at 0xc5f4fecba8>"
      ]
     },
     "metadata": {},
     "output_type": "display_data"
    }
   ],
   "source": [
    "import numpy as np\n",
    "from scipy import integrate\n",
    "import matplotlib.pyplot as plt\n",
    "from mpl_toolkits.mplot3d import Axes3D\n",
    "\n",
    "def lorenz(t, y, sigma=10, beta=8/3, rho=28):\n",
    "    ydot = np.array([\n",
    "        sigma*(y[1]-y[0]),\n",
    "        y[0]*(rho-y[2])-y[1],\n",
    "        y[0]*y[1]-beta*y[2]\n",
    "    ])\n",
    "    return ydot\n",
    "\n",
    "y0 = [1,1,1.1]\n",
    "t_span = [0, 30]\n",
    "t_eval = np.linspace(t_span[0], t_span[1], 10000)\n",
    "\n",
    "solution = integrate.solve_ivp(lorenz, t_span, y0, method='RK45', t_eval=t_eval)\n",
    "\n",
    "fig = plt.figure()\n",
    "ax = fig.add_subplot(111, projection='3d')\n",
    "\n",
    "ax.plot(solution.y[0,:], solution.y[1,:], solution.y[2, :])"
   ]
  },
  {
   "cell_type": "code",
   "execution_count": null,
   "metadata": {},
   "outputs": [],
   "source": [
    "\n",
    "\n"
   ]
  }
 ],
 "metadata": {
  "kernelspec": {
   "display_name": "Python 3",
   "language": "python",
   "name": "python3"
  },
  "language_info": {
   "codemirror_mode": {
    "name": "ipython",
    "version": 3
   },
   "file_extension": ".py",
   "mimetype": "text/x-python",
   "name": "python",
   "nbconvert_exporter": "python",
   "pygments_lexer": "ipython3",
   "version": "3.7.3"
  }
 },
 "nbformat": 4,
 "nbformat_minor": 2
}
